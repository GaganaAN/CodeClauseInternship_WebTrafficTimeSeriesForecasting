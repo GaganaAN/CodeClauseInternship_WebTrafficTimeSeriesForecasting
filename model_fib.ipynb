{
 "cells": [
  {
   "cell_type": "code",
   "execution_count": null,
   "metadata": {
    "ExecuteTime": {
     "end_time": "2017-09-12T01:48:32.679257Z",
     "start_time": "2017-09-12T01:48:32.503981Z"
    }
   },
   "outputs": [],
   "source": [
    "import argparse\n",
    "import pickle\n",
    "\n",
    "import numpy as np; np.seterr(invalid='ignore')\n",
    "import pandas as pd"
   ]
  },
  {
   "cell_type": "code",
   "execution_count": null,
   "metadata": {
    "ExecuteTime": {
     "end_time": "2017-09-12T01:48:32.683669Z",
     "start_time": "2017-09-12T01:48:32.680358Z"
    }
   },
   "outputs": [],
   "source": [
    "parser = {\n",
    "    'offset': 803,\n",
    "    'val_len': 64,\n",
    "    'seed': 20170913,\n",
    "    'windows': [7, 14, 21, 35, 56, 91, 147, 238, 385, 623],\n",
    "    'forecast_start': '2017-09-11',\n",
    "    'forecast_end': '2017-11-13'\n",
    "}\n",
    "args = argparse.Namespace(**parser)"
   ]
  },
  {
   "cell_type": "code",
   "execution_count": null,
   "metadata": {
    "ExecuteTime": {
     "end_time": "2017-09-12T01:48:32.750580Z",
     "start_time": "2017-09-12T01:48:32.684605Z"
    }
   },
   "outputs": [],
   "source": [
    "def smape(y_pred, y_true):\n",
    "    y_pred = np.around(y_pred)\n",
    "    denominator = y_true + y_pred\n",
    "    diff = np.abs(y_true - y_pred) / denominator\n",
    "    diff[denominator == 0] = 0\n",
    "    return 200 * np.nanmean(diff)"
   ]
  },
  {
   "cell_type": "code",
   "execution_count": null,
   "metadata": {
    "ExecuteTime": {
     "end_time": "2017-09-12T01:54:32.881972Z",
     "start_time": "2017-09-12T01:48:32.751638Z"
    }
   },
   "outputs": [],
   "source": [
    "print(\"Getting data...\")\n",
    "full = pd.read_csv('../data/wttsf/train_2.csv')\n",
    "full.iloc[:, 1:] = full.iloc[:, 1:].fillna(method='ffill', axis=1).fillna(\n",
    "        method='bfill', axis=1)\n",
    "datetime_list = pd.date_range(args.forecast_start, args.forecast_end)\n",
    "for datetime in datetime_list:\n",
    "    full[datetime.date().isoformat()] = 0\n",
    "\n",
    "print(\"Constructing test set...\")\n",
    "test = pd.melt(full[list(\n",
    "    full.columns[args.offset+1:args.offset+args.val_len+1])+['Page']],\n",
    "    id_vars='Page', var_name='Date', value_name=\"Visits\")\n",
    "test['Date'] = test['Date'].astype('datetime64[ns]')\n",
    "test['Weekend'] = test['Date'].dt.dayofweek >= 5\n",
    "\n",
    "print(\"Constructing train set...\")\n",
    "train = full.iloc[:, :args.offset+1]\n",
    "\n",
    "print(\"Getting medians...\")\n",
    "for i in args.windows:\n",
    "    print(i, end=' ')\n",
    "    val = 'MW'+str(i)\n",
    "    tmp = pd.melt(train[list(train.columns[-i:])+['Page']],\n",
    "                  id_vars='Page', var_name='Date', value_name=val)\n",
    "    tmp['Date'] = tmp['Date'].astype('datetime64[ns]')\n",
    "    tmp['Weekend']= tmp['Date'].dt.dayofweek >= 5           \n",
    "    tmp1 = tmp.groupby(['Page', 'Weekend']).median().reset_index()\n",
    "    test = test.merge(tmp1, how='left')\n",
    "print(\"\\n\")\n",
    "\n",
    "print(\"Getting median of medians...\")\n",
    "test['Predict'] = test[[\"MW7\", \"MW7\", \"MW14\", \"MW21\", \"MW35\", \"MW56\", \"MW91\",\n",
    "    \"MW147\", \"MW238\", \"MW385\", \"MW623\"]].median(axis=1)\n",
    "#print(\"Result: \", smape(test['Predict'].values, test['Visits'].values))"
   ]
  },
  {
   "cell_type": "code",
   "execution_count": null,
   "metadata": {
    "ExecuteTime": {
     "end_time": "2017-09-12T01:54:38.605696Z",
     "start_time": "2017-09-12T01:54:32.883222Z"
    }
   },
   "outputs": [],
   "source": [
    "with open(\"../intermediate/{}/pred_fib.pkl\".format(args.seed), \"wb\") as f:\n",
    "    predict_df = test[[\"Page\", \"Date\", \"Predict\"]].pivot(\n",
    "        index='Page', columns='Date')['Predict'].loc[full[\"Page\"]]\n",
    "    pickle.dump(predict_df.values, f)"
   ]
  }
 ],
 "metadata": {
  "kernelspec": {
   "display_name": "Python 3 (ipykernel)",
   "language": "python",
   "name": "python3"
  },
  "language_info": {
   "codemirror_mode": {
    "name": "ipython",
    "version": 3
   },
   "file_extension": ".py",
   "mimetype": "text/x-python",
   "name": "python",
   "nbconvert_exporter": "python",
   "pygments_lexer": "ipython3",
   "version": "3.11.5"
  }
 },
 "nbformat": 4,
 "nbformat_minor": 4
}
