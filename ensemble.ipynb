{
 "cells": [
  {
   "cell_type": "code",
   "execution_count": null,
   "metadata": {
    "ExecuteTime": {
     "end_time": "2017-09-12T19:58:12.976244Z",
     "start_time": "2017-09-12T19:58:12.797404Z"
    }
   },
   "outputs": [],
   "source": [
    "import argparse\n",
    "import pickle\n",
    "\n",
    "import numpy as np; np.seterr(invalid='ignore')\n",
    "import pandas as pd"
   ]
  },
  {
   "cell_type": "code",
   "execution_count": null,
   "metadata": {
    "ExecuteTime": {
     "end_time": "2017-09-12T19:58:12.980523Z",
     "start_time": "2017-09-12T19:58:12.977584Z"
    }
   },
   "outputs": [],
   "source": [
    "parser = {\n",
    "    'offset': 803,\n",
    "    'test_len': 63,\n",
    "    'seed': 20170913,\n",
    "    'forecast_start': '2017-09-13',\n",
    "    'forecast_end': '2017-11-13'\n",
    "}\n",
    "args = argparse.Namespace(**parser)"
   ]
  },
  {
   "cell_type": "code",
   "execution_count": null,
   "metadata": {
    "ExecuteTime": {
     "end_time": "2017-09-12T19:58:13.020958Z",
     "start_time": "2017-09-12T19:58:12.981394Z"
    }
   },
   "outputs": [],
   "source": [
    "def smape(y_pred, y_true):\n",
    "    y_pred = np.around(y_pred)\n",
    "    denominator = y_true + y_pred\n",
    "    diff = np.abs(y_true - y_pred) / denominator\n",
    "    diff[denominator == 0] = 0\n",
    "    return 200 * np.nanmean(diff)"
   ]
  },
  {
   "cell_type": "code",
   "execution_count": null,
   "metadata": {
    "ExecuteTime": {
     "end_time": "2017-09-12T19:58:13.081829Z",
     "start_time": "2017-09-12T19:58:13.022000Z"
    }
   },
   "outputs": [],
   "source": [
    "def ensemble(pred_fib, pred_rnn, y_true):\n",
    "    for i in range(0, 11):\n",
    "        y_pred = (pred_fib * i + pred_rnn * (10 - i)) / 10\n",
    "        print(\"{} fib + {} rnn = {}\".format(i, 10-i, smape(y_pred, y_true)))"
   ]
  },
  {
   "cell_type": "code",
   "execution_count": null,
   "metadata": {
    "ExecuteTime": {
     "end_time": "2017-09-12T19:58:22.540120Z",
     "start_time": "2017-09-12T19:58:13.086574Z"
    }
   },
   "outputs": [],
   "source": [
    "full = pd.read_csv('../data/wttsf/train_2.csv', index_col='Page')\n",
    "# full = full.fillna(method='ffill', axis=1).fillna(method='bfill', axis=1)\n",
    "# y_true = full.iloc[:, args.offset+1:args.offset+args.test_len+1].values\n",
    "y_true = full.iloc[:, -args.test_len:].values"
   ]
  },
  {
   "cell_type": "code",
   "execution_count": null,
   "metadata": {
    "ExecuteTime": {
     "end_time": "2017-09-12T19:58:22.599086Z",
     "start_time": "2017-09-12T19:58:22.541414Z"
    }
   },
   "outputs": [],
   "source": [
    "with open(\"../intermediate/{}/pred_fib.pkl\".format(args.seed), \"rb\") as f:\n",
    "    pred_fib = pickle.load(f)\n",
    "with open(\"../intermediate/{}/pred_rnn.pkl\".format(args.seed), \"rb\") as f:\n",
    "    pred_rnn = pickle.load(f)\n",
    "    \n",
    "# ensemble(pred_fib[:,:-1], pred_rnn[:,:-1], y_true)\n",
    "prediction = (pred_rnn + pred_fib) / 2"
   ]
  },
  {
   "cell_type": "code",
   "execution_count": null,
   "metadata": {
    "ExecuteTime": {
     "end_time": "2017-09-12T19:58:25.241565Z",
     "start_time": "2017-09-12T19:58:22.600389Z"
    }
   },
   "outputs": [],
   "source": [
    "test = pd.DataFrame()\n",
    "test[\"Page\"] = full.index\n",
    "datetime_list = pd.date_range(args.forecast_start, args.forecast_end)\n",
    "for datetime in datetime_list:\n",
    "    test[datetime.date().isoformat()] = 0\n",
    "test.iloc[:, 1:] = np.around(prediction[:, 2:])"
   ]
  },
  {
   "cell_type": "code",
   "execution_count": null,
   "metadata": {
    "ExecuteTime": {
     "end_time": "2017-09-12T19:58:56.714040Z",
     "start_time": "2017-09-12T19:58:25.242894Z"
    }
   },
   "outputs": [],
   "source": [
    "test = pd.melt(test, id_vars='Page', var_name='Date', value_name=\"Visits\")\n",
    "\n",
    "key_df = pd.read_csv('../data/wttsf/key_2.csv')\n",
    "key_df['Date'] = key_df['Page'].apply(lambda a: a[-10:])\n",
    "key_df['Page'] = key_df['Page'].apply(lambda a: a[:-11])\n",
    "key_df = key_df.merge(test, how=\"left\")\n",
    "\n",
    "key_df[['Id', 'Visits']].to_csv(\n",
    "    '../intermediate/{}/submission.csv'.format(args.seed), index=False)"
   ]
  }
 ],
 "metadata": {
  "kernelspec": {
   "display_name": "Python 3 (ipykernel)",
   "language": "python",
   "name": "python3"
  },
  "language_info": {
   "codemirror_mode": {
    "name": "ipython",
    "version": 3
   },
   "file_extension": ".py",
   "mimetype": "text/x-python",
   "name": "python",
   "nbconvert_exporter": "python",
   "pygments_lexer": "ipython3",
   "version": "3.11.5"
  }
 },
 "nbformat": 4,
 "nbformat_minor": 4
}
